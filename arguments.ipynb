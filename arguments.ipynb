{
 "cells": [
  {
   "cell_type": "code",
   "execution_count": 1,
   "id": "098900bd",
   "metadata": {},
   "outputs": [],
   "source": [
    "##Rule: params, *args, default parameter, **kwargs"
   ]
  },
  {
   "cell_type": "code",
   "execution_count": 2,
   "id": "d55e3787",
   "metadata": {},
   "outputs": [],
   "source": [
    "## find hightes even number in a list\n",
    "\n",
    "def find_highest_even(li):\n",
    "    \"\"\"\n",
    "    Find the highest even number in a list.\n",
    "    \n",
    "    :param li: List of integers\n",
    "    :return: Highest even integer or None if no even number is found\n",
    "    \"\"\"\n",
    "    highest_even = None\n",
    "    for num in li:\n",
    "        if num % 2 == 0:\n",
    "            if highest_even is None or num > highest_even:\n",
    "                highest_even = num\n",
    "    return highest_even\n",
    "\n"
   ]
  },
  {
   "cell_type": "code",
   "execution_count": 3,
   "id": "564b83c0",
   "metadata": {},
   "outputs": [
    {
     "data": {
      "text/plain": [
       "10"
      ]
     },
     "execution_count": 3,
     "metadata": {},
     "output_type": "execute_result"
    }
   ],
   "source": [
    "find_highest_even([1, 2, 3, 4, 5, 6, 7, 8, 9, 10]) # should return 10"
   ]
  },
  {
   "cell_type": "code",
   "execution_count": null,
   "id": "4f191ff5",
   "metadata": {},
   "outputs": [],
   "source": []
  }
 ],
 "metadata": {
  "kernelspec": {
   "display_name": "base",
   "language": "python",
   "name": "python3"
  },
  "language_info": {
   "codemirror_mode": {
    "name": "ipython",
    "version": 3
   },
   "file_extension": ".py",
   "mimetype": "text/x-python",
   "name": "python",
   "nbconvert_exporter": "python",
   "pygments_lexer": "ipython3",
   "version": "3.12.7"
  }
 },
 "nbformat": 4,
 "nbformat_minor": 5
}
