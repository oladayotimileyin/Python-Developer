{
 "cells": [
  {
   "cell_type": "code",
   "execution_count": 4,
   "id": "93f7d1ef",
   "metadata": {},
   "outputs": [],
   "source": [
    "is_magician = False\n",
    "is_expert = True"
   ]
  },
  {
   "cell_type": "code",
   "execution_count": 6,
   "id": "46c6ead0",
   "metadata": {},
   "outputs": [
    {
     "name": "stdout",
     "output_type": "stream",
     "text": [
      "you need magical powers\n"
     ]
    }
   ],
   "source": [
    "if is_magician and is_expert:\n",
    "    print(\"You are a master magician\")\n",
    "\n",
    "elif is_magician and not is_expert:\n",
    "    print(\"at least you are getting there\")\n",
    "\n",
    "elif not is_magician:\n",
    "    print(\"you need magical powers\")\n"
   ]
  },
  {
   "cell_type": "code",
   "execution_count": null,
   "id": "4798806a",
   "metadata": {},
   "outputs": [],
   "source": []
  }
 ],
 "metadata": {
  "kernelspec": {
   "display_name": "base",
   "language": "python",
   "name": "python3"
  },
  "language_info": {
   "codemirror_mode": {
    "name": "ipython",
    "version": 3
   },
   "file_extension": ".py",
   "mimetype": "text/x-python",
   "name": "python",
   "nbconvert_exporter": "python",
   "pygments_lexer": "ipython3",
   "version": "3.12.7"
  }
 },
 "nbformat": 4,
 "nbformat_minor": 5
}
