{
 "cells": [
  {
   "cell_type": "code",
   "execution_count": 1,
   "id": "de4c7f4a",
   "metadata": {},
   "outputs": [],
   "source": [
    "# 4 pillars of OOP\n",
    "\n",
    "#1 Encapsulation\n",
    "# enclose functions in class to create a blueprint and use it to create objects multiple times\n",
    "\n",
    "#Why - gives extra power to the class, allows to hide implementation details, and provides a clear interface\n"
   ]
  },
  {
   "cell_type": "code",
   "execution_count": 2,
   "id": "d29ef872",
   "metadata": {},
   "outputs": [],
   "source": [
    "#2 Abstraction\n",
    "# hide complex implementation details and expose only the necessary parts of the class - so need to worry \n",
    "#about the implemetation details"
   ]
  },
  {
   "cell_type": "code",
   "execution_count": null,
   "id": "10299042",
   "metadata": {},
   "outputs": [],
   "source": [
    "#public and private variables\n",
    "# public - can be accessed from outside the class\n",
    "# private - cannot be accessed from outside the class, but can be accessed from inside the class\n",
    "\n",
    "# no true private variables in Python, but by convention, we use a single underscore _ to indicate that a variable is private"
   ]
  },
  {
   "cell_type": "markdown",
   "id": "45db5b11",
   "metadata": {},
   "source": [
    "### 3. Inheritance - new object takes on property of existing object"
   ]
  },
  {
   "cell_type": "code",
   "execution_count": 3,
   "id": "2b4bc590",
   "metadata": {},
   "outputs": [],
   "source": [
    "class user():\n",
    "    def sign_in (self):\n",
    "        print(\"logged in\")\n",
    "\n",
    "class wizard(user):\n",
    "    pass\n",
    "\n",
    "class knight(user):\n",
    "    pass\n",
    "\n",
    "\n",
    "# to pass inheritance, use the class name in parentheses (parameter)"
   ]
  },
  {
   "cell_type": "code",
   "execution_count": 7,
   "id": "3ad9c8ad",
   "metadata": {},
   "outputs": [
    {
     "name": "stdout",
     "output_type": "stream",
     "text": [
      "<__main__.wizard object at 0x000001B8456C84D0>\n",
      "logged in\n",
      "None\n"
     ]
    }
   ],
   "source": [
    "# instantiate\n",
    "\n",
    "wizard1 = wizard()\n",
    "\n",
    "print(wizard1)\n",
    "\n",
    "print(wizard1.sign_in())"
   ]
  },
  {
   "cell_type": "code",
   "execution_count": 10,
   "id": "c0927cb3",
   "metadata": {},
   "outputs": [],
   "source": [
    "##modify\n",
    "\n",
    "class user():\n",
    "    def sign_in (self):\n",
    "        print(\"logged in\")\n",
    "\n",
    "class wizard(user):\n",
    "    def __init__(self, name,power):\n",
    "        self._name = name\n",
    "        self._power = power\n",
    "    \n",
    "    def attack(self):\n",
    "        print(f\"attacking with power {self._power}\")\n",
    "\n",
    "class knight(user):\n",
    "    def __init__(self, name, num_arrows):\n",
    "        self._name = name\n",
    "        self._num_arrows = num_arrows\n",
    "    \n",
    "    def attack(self):\n",
    "        print(f\"attacking with arrows: arrows left - {self._num_arrows}\")\n",
    "\n",
    "\n",
    "\n",
    "# to pass inheritance, use the class name in parentheses (parameter)"
   ]
  },
  {
   "cell_type": "code",
   "execution_count": 12,
   "id": "0ae8b178",
   "metadata": {},
   "outputs": [
    {
     "name": "stdout",
     "output_type": "stream",
     "text": [
      "attacking with power 50\n",
      "attacking with arrows: arrows left - 100\n"
     ]
    }
   ],
   "source": [
    "##instantiate\n",
    "\n",
    "wizard1 = wizard(\"Merlin\", 50)\n",
    "knight1 = knight(\"Arthur\", 100)\n",
    "\n",
    "wizard1.attack()\n",
    "\n",
    "knight1.attack()"
   ]
  },
  {
   "cell_type": "code",
   "execution_count": 14,
   "id": "99f553f0",
   "metadata": {},
   "outputs": [
    {
     "name": "stdout",
     "output_type": "stream",
     "text": [
      "True\n",
      "True\n"
     ]
    }
   ],
   "source": [
    "#isinstance - let you check if an object is an instance of a class or a subclass of that class\n",
    "\n",
    "#isinstance(wizard1, wizard) # True\n",
    "#isinstance(wizard1, user) # True\n",
    "\n",
    "print(isinstance(wizard1, wizard))\n",
    "\n",
    "print(isinstance(wizard1, user))"
   ]
  },
  {
   "cell_type": "code",
   "execution_count": 15,
   "id": "547b1c8b",
   "metadata": {},
   "outputs": [
    {
     "name": "stdout",
     "output_type": "stream",
     "text": [
      "True\n"
     ]
    }
   ],
   "source": [
    "#every created object inherit python object class\n",
    "print(isinstance(wizard1, object))  # True"
   ]
  },
  {
   "cell_type": "code",
   "execution_count": 16,
   "id": "3f6243a6",
   "metadata": {},
   "outputs": [],
   "source": [
    "## Polymorphism\n",
    "# ability to use the same method name in different classes, but with different implementations\n",
    "\n",
    "#eg wizard1.attack() and knight1.attack() have the same method name, but different implementations\n",
    "# this allows us to write code that can work with different types of objects, as long as they have the same method name"
   ]
  },
  {
   "cell_type": "code",
   "execution_count": 17,
   "id": "10f2b292",
   "metadata": {},
   "outputs": [
    {
     "name": "stdout",
     "output_type": "stream",
     "text": [
      "attacking with power 50\n",
      "attacking with arrows: arrows left - 100\n"
     ]
    }
   ],
   "source": [
    "## you can call the attack using another function\n",
    "def player_attack(player):\n",
    "    player.attack()\n",
    "\n",
    "player_attack(wizard1)  # attacking with power 50\n",
    "player_attack(knight1)  # attacking with arrows: arrows left - 100"
   ]
  },
  {
   "cell_type": "code",
   "execution_count": null,
   "id": "9feaa1f1",
   "metadata": {},
   "outputs": [],
   "source": []
  }
 ],
 "metadata": {
  "kernelspec": {
   "display_name": "base",
   "language": "python",
   "name": "python3"
  },
  "language_info": {
   "codemirror_mode": {
    "name": "ipython",
    "version": 3
   },
   "file_extension": ".py",
   "mimetype": "text/x-python",
   "name": "python",
   "nbconvert_exporter": "python",
   "pygments_lexer": "ipython3",
   "version": "3.12.7"
  }
 },
 "nbformat": 4,
 "nbformat_minor": 5
}
