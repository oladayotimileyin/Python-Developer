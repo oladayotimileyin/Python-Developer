{
 "cells": [
  {
   "cell_type": "code",
   "execution_count": 5,
   "id": "9d9fbd8d",
   "metadata": {},
   "outputs": [],
   "source": [
    "is_old = True\n",
    "is_licenced = False"
   ]
  },
  {
   "cell_type": "code",
   "execution_count": 3,
   "id": "cb57d980",
   "metadata": {},
   "outputs": [
    {
     "name": "stdout",
     "output_type": "stream",
     "text": [
      "You are old enough to drive\n",
      "Test complete\n"
     ]
    }
   ],
   "source": [
    "##conndition\n",
    "\n",
    "if is_old:\n",
    "    print('You are old enough to drive')\n",
    "\n",
    "elif is_licenced:\n",
    "    print('Your license is valid and you can drive')\n",
    "\n",
    "else:\n",
    "    print('You are an underage')\n",
    "\n",
    "\n",
    "print('Test complete')"
   ]
  },
  {
   "cell_type": "code",
   "execution_count": 6,
   "id": "463473d7",
   "metadata": {},
   "outputs": [
    {
     "name": "stdout",
     "output_type": "stream",
     "text": [
      "you are either an underage or have no licence\n"
     ]
    }
   ],
   "source": [
    "## te logic should be combined\n",
    "\n",
    "if is_old and is_licenced:\n",
    "    print('You can drive and have all necessary document')\n",
    "\n",
    "else:\n",
    "    print('you are either an underage or have no licence')"
   ]
  },
  {
   "cell_type": "code",
   "execution_count": 1,
   "id": "c2e89963",
   "metadata": {},
   "outputs": [],
   "source": [
    "## Truty and #Falsy"
   ]
  },
  {
   "cell_type": "code",
   "execution_count": 3,
   "id": "98d25764",
   "metadata": {},
   "outputs": [
    {
     "name": "stdout",
     "output_type": "stream",
     "text": [
      "No you cannot message\n"
     ]
    }
   ],
   "source": [
    "## Tenary OPERATOR\n",
    "\n",
    "## shortcut for conditions - conditional expressions\n",
    "\n",
    "is_friend = False\n",
    "\n",
    "can_message = \"Yes you can message\" if is_friend else \"No you cannot message\"\n",
    "\n",
    "print(can_message)"
   ]
  },
  {
   "cell_type": "code",
   "execution_count": 6,
   "id": "d09ac8e2",
   "metadata": {},
   "outputs": [
    {
     "name": "stdout",
     "output_type": "stream",
     "text": [
      "my best friend motherfucker!!\n"
     ]
    }
   ],
   "source": [
    "## short circuting - use AND OR\n",
    "\n",
    "is_friend = True\n",
    "is_user = False\n",
    "\n",
    "if is_friend or is_user:\n",
    "    print(\"my best friend motherfucker!!\")"
   ]
  },
  {
   "cell_type": "code",
   "execution_count": null,
   "id": "ac3324bd",
   "metadata": {},
   "outputs": [],
   "source": []
  }
 ],
 "metadata": {
  "kernelspec": {
   "display_name": "base",
   "language": "python",
   "name": "python3"
  },
  "language_info": {
   "codemirror_mode": {
    "name": "ipython",
    "version": 3
   },
   "file_extension": ".py",
   "mimetype": "text/x-python",
   "name": "python",
   "nbconvert_exporter": "python",
   "pygments_lexer": "ipython3",
   "version": "3.12.7"
  }
 },
 "nbformat": 4,
 "nbformat_minor": 5
}
