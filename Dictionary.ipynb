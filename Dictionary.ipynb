{
 "cells": [
  {
   "cell_type": "code",
   "execution_count": 1,
   "metadata": {},
   "outputs": [],
   "source": [
    "##dict - datatype , data structure - unordered key pair\n",
    "\n",
    "dictionary = {\n",
    "    'key' : 'value',\n",
    "    'a': 1,\n",
    "    'b': 2\n",
    "}"
   ]
  },
  {
   "cell_type": "code",
   "execution_count": 2,
   "metadata": {},
   "outputs": [
    {
     "name": "stdout",
     "output_type": "stream",
     "text": [
      "value\n",
      "2\n",
      "{'key': 'value', 'a': 1, 'b': 2}\n"
     ]
    }
   ],
   "source": [
    "print(dictionary['key'])\n",
    "print(dictionary['b'])\n",
    "\n",
    "print(dictionary)"
   ]
  },
  {
   "cell_type": "code",
   "execution_count": 3,
   "metadata": {},
   "outputs": [
    {
     "name": "stdout",
     "output_type": "stream",
     "text": [
      "hello\n"
     ]
    }
   ],
   "source": [
    "## data structure are containers around data\n",
    "## - so you can embed other data types inside a dictionary\n",
    "\n",
    "my_list = {\n",
    "    'q': [1,2,3],\n",
    "    't': 'hello',\n",
    "    'y': True\n",
    "}\n",
    "\n",
    "print(my_list['t'])"
   ]
  },
  {
   "cell_type": "code",
   "execution_count": 4,
   "metadata": {},
   "outputs": [
    {
     "name": "stdout",
     "output_type": "stream",
     "text": [
      "2\n"
     ]
    }
   ],
   "source": [
    "## or\n",
    "\n",
    "my_enbed = [{\n",
    "    'q': [1,2,3],\n",
    "    't': 'hello',\n",
    "    'y': True\n",
    "},\n",
    "{\n",
    "    'q': [4,5,6],\n",
    "    't': 'hello',\n",
    "    'y': True\n",
    "}\n",
    "\n",
    "]\n",
    "\n",
    "print(my_enbed[0]['q'][1])"
   ]
  },
  {
   "cell_type": "code",
   "execution_count": 5,
   "metadata": {},
   "outputs": [],
   "source": [
    "## a dictionary key must not change (immutable) so a lolist cannot be used as a key in dictionary\n",
    "\n",
    "# dictionary key must be unique."
   ]
  },
  {
   "cell_type": "code",
   "execution_count": 6,
   "metadata": {},
   "outputs": [
    {
     "name": "stdout",
     "output_type": "stream",
     "text": [
      "None\n",
      "30\n"
     ]
    }
   ],
   "source": [
    "# check if keyword exist - use .get()\n",
    "\n",
    "user = {\n",
    "    'username' : 'Jack',\n",
    "    'Sex' : 'Male',\n",
    "    'Height' : 56\n",
    "}\n",
    "\n",
    "print(user.get('Age'))\n",
    "\n",
    "# put default if missin\n",
    "print(user.get('Age', 30))"
   ]
  },
  {
   "cell_type": "code",
   "execution_count": 7,
   "metadata": {},
   "outputs": [
    {
     "name": "stdout",
     "output_type": "stream",
     "text": [
      "{'name': 'Jennifer'}\n"
     ]
    }
   ],
   "source": [
    "# u can use dict to create dictionary too\n",
    "\n",
    "user2 = dict(name='Jennifer')\n",
    "\n",
    "print(user2)"
   ]
  },
  {
   "cell_type": "code",
   "execution_count": 10,
   "metadata": {},
   "outputs": [
    {
     "name": "stdout",
     "output_type": "stream",
     "text": [
      "True\n",
      "False\n"
     ]
    }
   ],
   "source": [
    "## check if key exust in a dict\n",
    "\n",
    "print('username' in user)\n",
    "\n",
    "print('age' in user)"
   ]
  },
  {
   "cell_type": "code",
   "execution_count": 11,
   "metadata": {},
   "outputs": [
    {
     "name": "stdout",
     "output_type": "stream",
     "text": [
      "True\n"
     ]
    }
   ],
   "source": [
    "##if you want to check keys only\n",
    "\n",
    "print('username' in user.keys())"
   ]
  },
  {
   "cell_type": "code",
   "execution_count": 12,
   "metadata": {},
   "outputs": [
    {
     "name": "stdout",
     "output_type": "stream",
     "text": [
      "True\n"
     ]
    }
   ],
   "source": [
    "#3 check from values\n",
    "\n",
    "print('Male' in user.values())"
   ]
  },
  {
   "cell_type": "code",
   "execution_count": 13,
   "metadata": {},
   "outputs": [
    {
     "name": "stdout",
     "output_type": "stream",
     "text": [
      "dict_items([('username', 'Jack'), ('Sex', 'Male'), ('Height', 56)])\n"
     ]
    }
   ],
   "source": [
    "##items display the whole item\n",
    "\n",
    "print(user.items())"
   ]
  },
  {
   "cell_type": "code",
   "execution_count": 17,
   "metadata": {},
   "outputs": [
    {
     "name": "stdout",
     "output_type": "stream",
     "text": [
      "None\n",
      "{'username': 'Jack', 'Sex': 'Female', 'Height': 56, 'Age': 56}\n"
     ]
    }
   ],
   "source": [
    "## clear - - remove all content in the dict\n",
    "\n",
    "##pop - remove last item\n",
    "\n",
    "## update\n",
    "\n",
    "print(user.update({'Age': 56}))\n",
    "\n",
    "print(user)"
   ]
  },
  {
   "cell_type": "code",
   "execution_count": null,
   "metadata": {},
   "outputs": [],
   "source": []
  }
 ],
 "metadata": {
  "kernelspec": {
   "display_name": "base",
   "language": "python",
   "name": "python3"
  },
  "language_info": {
   "codemirror_mode": {
    "name": "ipython",
    "version": 3
   },
   "file_extension": ".py",
   "mimetype": "text/x-python",
   "name": "python",
   "nbconvert_exporter": "python",
   "pygments_lexer": "ipython3",
   "version": "3.12.7"
  }
 },
 "nbformat": 4,
 "nbformat_minor": 2
}
