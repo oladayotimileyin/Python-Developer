{
 "cells": [
  {
   "cell_type": "code",
   "execution_count": 1,
   "id": "68954fe8",
   "metadata": {},
   "outputs": [
    {
     "ename": "SyntaxError",
     "evalue": "invalid syntax (2007949879.py, line 4)",
     "output_type": "error",
     "traceback": [
      "\u001b[1;36m  Cell \u001b[1;32mIn[1], line 4\u001b[1;36m\u001b[0m\n\u001b[1;33m    do something\u001b[0m\n\u001b[1;37m       ^\u001b[0m\n\u001b[1;31mSyntaxError\u001b[0m\u001b[1;31m:\u001b[0m invalid syntax\n"
     ]
    }
   ],
   "source": [
    "## for loops\n",
    "\n",
    "for variable in iterable:\n",
    "    do something"
   ]
  },
  {
   "cell_type": "code",
   "execution_count": null,
   "id": "e9bc991c",
   "metadata": {},
   "outputs": [
    {
     "name": "stdout",
     "output_type": "stream",
     "text": [
      "T\n",
      "i\n",
      "m\n",
      "i\n",
      "l\n",
      "e\n",
      "y\n",
      "i\n",
      "n\n"
     ]
    }
   ],
   "source": [
    "for items in \"Timileyin\":\n",
    "    print(items)"
   ]
  },
  {
   "cell_type": "code",
   "execution_count": null,
   "id": "c8a94993",
   "metadata": {},
   "outputs": [
    {
     "name": "stdout",
     "output_type": "stream",
     "text": [
      "1 a\n",
      "1 b\n",
      "1 c\n",
      "2 a\n",
      "2 b\n",
      "2 c\n",
      "3 a\n",
      "3 b\n",
      "3 c\n",
      "4 a\n",
      "4 b\n",
      "4 c\n",
      "5 a\n",
      "5 b\n",
      "5 c\n"
     ]
    }
   ],
   "source": [
    "## allows to interate over anything that has colectyion of items\n",
    "\n",
    "##you can nest for loops\n",
    "\n",
    "for items in (1,2,3,4,5):\n",
    "    for x in ['a', 'b', 'c']:\n",
    "        print(items, x)\n"
   ]
  },
  {
   "cell_type": "code",
   "execution_count": null,
   "id": "46150a9d",
   "metadata": {},
   "outputs": [
    {
     "name": "stdout",
     "output_type": "stream",
     "text": [
      "name\n",
      "age\n",
      "can_swim\n",
      "{'name': 'Nzube', 'age': 27, 'can_swim': False}\n",
      "{'name': 'Nzube', 'age': 27, 'can_swim': False}\n",
      "{'name': 'Nzube', 'age': 27, 'can_swim': False}\n"
     ]
    }
   ],
   "source": [
    "## iterable means object or collecton of items cthat can be iterated over - go one by one to check eash items\n",
    "#in the collection\n",
    "\n",
    "## dictionary\n",
    "\n",
    "user = {\n",
    "    'name': 'Nzube',\n",
    "    'age': 27,\n",
    "    'can_swim': False\n",
    "}\n",
    "\n",
    "for users in user:\n",
    "    print(users)  # this prints the keys\n",
    "\n"
   ]
  },
  {
   "cell_type": "code",
   "execution_count": null,
   "id": "3910932d",
   "metadata": {},
   "outputs": [
    {
     "name": "stdout",
     "output_type": "stream",
     "text": [
      "('name', 'Nzube')\n",
      "('age', 27)\n",
      "('can_swim', False)\n"
     ]
    }
   ],
   "source": [
    "## use items to get key:value pair\n",
    "\n",
    "for users in user.items():\n",
    "    print(users)"
   ]
  },
  {
   "cell_type": "code",
   "execution_count": null,
   "id": "02e09e9f",
   "metadata": {},
   "outputs": [
    {
     "name": "stdout",
     "output_type": "stream",
     "text": [
      "Nzube\n",
      "27\n",
      "False\n"
     ]
    }
   ],
   "source": [
    "## usee .va;ues to get values\n",
    "\n",
    "for users in user.values():\n",
    "    print(users)"
   ]
  },
  {
   "cell_type": "code",
   "execution_count": null,
   "id": "88a5ef00",
   "metadata": {},
   "outputs": [
    {
     "name": "stdout",
     "output_type": "stream",
     "text": [
      "name\n",
      "age\n",
      "can_swim\n"
     ]
    }
   ],
   "source": [
    "## usee .keys to get keys\n",
    "\n",
    "for users in user.keys():\n",
    "    print(users)"
   ]
  },
  {
   "cell_type": "code",
   "execution_count": null,
   "id": "fc7c73be",
   "metadata": {},
   "outputs": [
    {
     "name": "stdout",
     "output_type": "stream",
     "text": [
      "name Nzube\n",
      "age 27\n",
      "can_swim False\n"
     ]
    }
   ],
   "source": [
    "## print key value\n",
    "\n",
    "for key, value in user.items():\n",
    "    print(key, value)"
   ]
  },
  {
   "cell_type": "code",
   "execution_count": null,
   "id": "1365314c",
   "metadata": {},
   "outputs": [
    {
     "name": "stdout",
     "output_type": "stream",
     "text": [
      "55\n"
     ]
    }
   ],
   "source": [
    "## exercise counter\n",
    "\n",
    "my_list = [1,2,3,4,5,6,7,8,9,10]\n",
    "\n",
    "count = 0\n",
    "\n",
    "for x in my_list:\n",
    "    count += x\n",
    "\n",
    "print(count)\n"
   ]
  },
  {
   "cell_type": "code",
   "execution_count": 2,
   "id": "5bfe338f",
   "metadata": {},
   "outputs": [],
   "source": [
    "## range function"
   ]
  },
  {
   "cell_type": "code",
   "execution_count": 4,
   "id": "b81a4f89",
   "metadata": {},
   "outputs": [
    {
     "name": "stdout",
     "output_type": "stream",
     "text": [
      "0 H\n",
      "1 e\n",
      "2 l\n",
      "3 l\n",
      "4 o\n",
      "5 o\n",
      "6 o\n",
      "7 o\n"
     ]
    }
   ],
   "source": [
    "##Enumerate it gives the index of iterable items\n",
    "\n",
    "for i, char in enumerate('Helloooo'):\n",
    "    print(i, char)\n",
    "\n"
   ]
  },
  {
   "cell_type": "code",
   "execution_count": 9,
   "id": "9dd8029a",
   "metadata": {},
   "outputs": [
    {
     "name": "stdout",
     "output_type": "stream",
     "text": [
      "The Index of 50 is: 50\n"
     ]
    }
   ],
   "source": [
    "for i, char in enumerate(list(range(100))):\n",
    "    if char == 50:\n",
    "        print(f'The Index of 50 is: {i}')\n",
    "    "
   ]
  },
  {
   "cell_type": "code",
   "execution_count": 10,
   "id": "57ca87e8",
   "metadata": {},
   "outputs": [
    {
     "name": "stdout",
     "output_type": "stream",
     "text": [
      "0\n"
     ]
    }
   ],
   "source": [
    "## while loops it an infinite loop\n",
    "\n",
    "i = 0\n",
    "while i < 10:\n",
    "    print(i)\n",
    "    break\n",
    "\n"
   ]
  },
  {
   "cell_type": "code",
   "execution_count": 13,
   "id": "1be970fb",
   "metadata": {},
   "outputs": [
    {
     "name": "stdout",
     "output_type": "stream",
     "text": [
      "0\n",
      "1\n",
      "2\n",
      "3\n",
      "4\n",
      "5\n",
      "6\n",
      "7\n",
      "8\n",
      "9\n",
      "Done with the program\n"
     ]
    }
   ],
   "source": [
    "## loop 50 times\n",
    "\n",
    "i = 0\n",
    "while i < 10:\n",
    "    print(i)\n",
    "    i += 1\n",
    "\n",
    "else:\n",
    "    print('Done with the program')\n"
   ]
  },
  {
   "cell_type": "code",
   "execution_count": 14,
   "id": "cb8f28f3",
   "metadata": {},
   "outputs": [
    {
     "name": "stdout",
     "output_type": "stream",
     "text": [
      "1\n",
      "2\n",
      "3\n",
      "4\n",
      "5\n",
      "6\n",
      "7\n",
      "8\n",
      "9\n",
      "10\n",
      "1\n",
      "2\n",
      "3\n",
      "4\n",
      "5\n",
      "6\n",
      "7\n",
      "8\n",
      "9\n",
      "10\n"
     ]
    }
   ],
   "source": [
    "my_list = [1,2,3,4,5,6,7,8,9,10]\n",
    "for items in my_list:\n",
    "    print(items)\n",
    "\n",
    "\n",
    "\n",
    "i = 0\n",
    "while i < len(my_list):\n",
    "    print(my_list[i])\n",
    "    i += 1"
   ]
  },
  {
   "cell_type": "code",
   "execution_count": null,
   "id": "51aa9c2d",
   "metadata": {},
   "outputs": [],
   "source": []
  }
 ],
 "metadata": {
  "kernelspec": {
   "display_name": "base",
   "language": "python",
   "name": "python3"
  },
  "language_info": {
   "codemirror_mode": {
    "name": "ipython",
    "version": 3
   },
   "file_extension": ".py",
   "mimetype": "text/x-python",
   "name": "python",
   "nbconvert_exporter": "python",
   "pygments_lexer": "ipython3",
   "version": "3.12.7"
  }
 },
 "nbformat": 4,
 "nbformat_minor": 5
}
